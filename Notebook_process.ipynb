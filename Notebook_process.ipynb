{
 "cells": [
  {
   "cell_type": "markdown",
   "id": "6d6f8bbe",
   "metadata": {},
   "source": [
    "## Extract the text"
   ]
  },
  {
   "cell_type": "code",
   "execution_count": 7,
   "id": "3b367e11",
   "metadata": {},
   "outputs": [],
   "source": [
    "import whisper\n",
    "# from tool_language_video_translate.utils import extract_audio_from_video\n",
    "from tool_language_video_translate import utils\n"
   ]
  },
  {
   "cell_type": "code",
   "execution_count": 8,
   "id": "2781e899",
   "metadata": {},
   "outputs": [
    {
     "data": {
      "text/plain": [
       "True"
      ]
     },
     "execution_count": 8,
     "metadata": {},
     "output_type": "execute_result"
    }
   ],
   "source": [
    "import os\n",
    "video_name = \"Pep_Guardiola_explained_why_Chelsea_is_so_good\"\n",
    "video_path = f\"./video_data/{video_name}.mp4\"\n",
    "os.path.exists(video_path)\n",
    "#/home/davidtito/Documents/Projects/tool_language_video_translate/video_data/Pep_Guardiola_explained_why_Chelsea_is_so_good.mp4"
   ]
  },
  {
   "cell_type": "code",
   "execution_count": 9,
   "id": "872867ec",
   "metadata": {},
   "outputs": [
    {
     "name": "stderr",
     "output_type": "stream",
     "text": [
      "ffmpeg version 7.1.1 Copyright (c) 2000-2025 the FFmpeg developers\n",
      "  built with gcc 14 (GCC)\n",
      "  configuration: --prefix=/usr --bindir=/usr/bin --datadir=/usr/share/ffmpeg --docdir=/usr/share/doc/ffmpeg --incdir=/usr/include/ffmpeg --libdir=/usr/lib64 --mandir=/usr/share/man --arch=x86_64 --optflags='-O2 -flto=auto -ffat-lto-objects -fexceptions -g -grecord-gcc-switches -pipe -Wall -Werror=format-security -Wno-error=incompatible-pointer-types -Wp,-U_FORTIFY_SOURCE,-D_FORTIFY_SOURCE=3 -Wp,-D_GLIBCXX_ASSERTIONS -specs=/usr/lib/rpm/redhat/redhat-hardened-cc1 -fstack-protector-strong -specs=/usr/lib/rpm/redhat/redhat-annobin-cc1 -m64 -march=x86-64 -mtune=generic -fasynchronous-unwind-tables -fstack-clash-protection -fcf-protection -mtls-dialect=gnu2 -fno-omit-frame-pointer -mno-omit-leaf-frame-pointer ' --extra-ldflags='-Wl,-z,relro -Wl,--as-needed -Wl,-z,pack-relative-relocs -Wl,-z,now -specs=/usr/lib/rpm/redhat/redhat-hardened-ld -specs=/usr/lib/rpm/redhat/redhat-annobin-cc1 -Wl,--build-id=sha1 -specs=/usr/lib/rpm/redhat/redhat-package-notes ' --disable-htmlpages --enable-pic --disable-stripping --enable-shared --disable-static --enable-gpl --enable-version3 --enable-libsmbclient --disable-openssl --enable-bzlib --enable-frei0r --enable-chromaprint --enable-gcrypt --enable-gnutls --enable-ladspa --enable-lcms2 --enable-libshaderc --enable-vulkan --disable-cuda-sdk --enable-libaom --enable-libaribb24 --enable-libaribcaption --enable-libass --enable-libbluray --enable-libbs2b --enable-libcaca --enable-libcdio --enable-libcodec2 --enable-libdav1d --enable-libdc1394 --enable-libdvdnav --enable-libdvdread --enable-libfdk-aac --enable-libflite --enable-libfontconfig --enable-libfreetype --enable-libfribidi --enable-libharfbuzz --enable-libgme --enable-libgsm --enable-libiec61883 --enable-libilbc --enable-libjack --enable-libjxl --enable-liblc3 --enable-libmodplug --enable-libmp3lame --enable-libmysofa --enable-libopenh264 --enable-libopenjpeg --enable-libopenmpt --enable-libopus --enable-libplacebo --enable-libpulse --enable-libqrencode --enable-librabbitmq --enable-librav1e --enable-librist --enable-librsvg --enable-librubberband --enable-libsnappy --enable-libsvtav1 --enable-libsoxr --enable-libspeex --enable-libssh --enable-libsrt --enable-libtesseract --enable-libtheora --enable-libtwolame --enable-libvidstab --enable-libvmaf --enable-libvorbis --enable-libv4l2 --enable-libvpx --enable-libwebp --enable-libxml2 --enable-libzimg --enable-libzmq --enable-libzvbi --enable-lto --enable-libvpl --enable-lv2 --enable-vaapi --enable-vdpau --enable-libopencore-amrnb --enable-libopencore-amrwb --enable-libvo-amrwbenc --enable-libxvid --enable-openal --enable-opencl --enable-opengl --enable-pthreads --enable-vapoursynth --enable-muxers --enable-demuxers --enable-hwaccels --disable-encoders --disable-decoders --disable-decoder='h264,hevc,libxevd,vc1,vvc' --enable-encoder=',a64multi,a64multi5,aac,libfdk_aac,ac3,adpcm_adx,adpcm_argo,adpcm_g722,adpcm_g726,adpcm_g726le,adpcm_ima_alp,adpcm_ima_amv,adpcm_ima_apm,adpcm_ima_qt,adpcm_ima_ssi,adpcm_ima_wav,adpcm_ima_ws,adpcm_ms,adpcm_swf,adpcm_yamaha,alac,alias_pix,amv,anull,apng,ass,asv1,asv2,av1_amf,av1_nvenc,av1_qsv,av1_vaapi,bitpacked,bmp,cinepak,cljr,dca,dfpwm,dnxhd,dnxhr,dpx,dvbsub,dvdsub,dvvideo,exr,ffv1,ffvhuff,flac,flashsv,flashsv2,flv,g723_1,gif,h261,h263,h263_v4l2m2m,h263p,h264_amf,h264_nvenc,h264_qsv,h264_v4l2m2m,h264_vaapi,hap,hdr,hevc_amf,hevc_nvenc,hevc_qsv,hevc_v4l2m2m,hevc_vaapi,huffyuv,ilbc,jpeg2000,jpegls,libaom,libaom_av1,libcodec2,libgsm,libgsm_ms,libilbc,libjxl,liblc3,libmp3lame,libopencore_amrnb,libopenh264,libopenjpeg,libopus,librav1e,libspeex,libsvtav1,libtheora,libtwolame,libvo_amrwbenc,libvorbis,libvpx_vp8,libvpx_vp9,libwebp,libwebp_anim,libxvid,mjpeg,mjpeg_qsv,mjpeg_vaapi,mlp,mp2,mp2fixed,mpeg1video,mpeg2_qsv,mpeg2_vaapi,mpeg2video,mpeg4,mpeg4_v4l2m2m,msmpeg4v2,msmpeg4v3,msvideo1,nellymoser,opus,pam,pbm,pcm_alaw,pcm_f32be,pcm_f32le,pcm_f64be,pcm_f64le,pcm_mulaw,pcm_s16be,pcm_s16be_planar,pcm_s16le,pcm_s16le_planar,pcm_s24be,pcm_s24le,pcm_s24le_planar,pcm_s32be,pcm_s32le,pcm_s32le_planar,pcm_s8,pcm_s8_planar,pcm_u16be,pcm_u16le,pcm_u24be,pcm_u24le,pcm_u32be,pcm_u32le,pcm_u8,pcx,pgm,pgmyuv,phm,png,ppm,prores,prores_aw,prores_ks,qoi,qtrle,r10k,r210,ra_144,rawvideo,roq,roq_dpcm,rpza,rv10,rv20,s302m,sbc,sgi,smc,snow,sonic,sonic_ls,speedhq,srt,ssa,subrip,sunrast,svq1,targa,text,tiff,truehd,tta,ttml,utvideo,v210,v308,v408,v410,vc1_qsv,vc1_v4l2m2m,vc2,vnull,vorbis,vp8_qsv,vp8_v4l2m2m,vp8_vaapi,vp9_qsv,vp9_vaapi,wavpack,wbmp,webvtt,wmav1,wmav2,wmv1,wmv2,wrapped_avframe,xbm,xface,xsub,xwd,y41p,yuv4,zlib,zmbv,' --enable-decoder=',aac,aasc,libfdk_aac,ac3,acelp_kelvin,adpcm_4xm,adpcm_adx,adpcm_afc,adpcm_agm,adpcm_aica,adpcm_argo,adpcm_ct,adpcm_dtk,adpcm_ea,adpcm_ea_maxis_xa,adpcm_ea_r1,adpcm_ea_r2,adpcm_ea_r3,adpcm_ea_xas,adpcm_g722,adpcm_g726,adpcm_g726le,adpcm_ima_acorn,adpcm_ima_alp,adpcm_ima_amv,adpcm_ima_apc,adpcm_ima_apm,adpcm_ima_cunning,adpcm_ima_dat4,adpcm_ima_dk3,adpcm_ima_dk4,adpcm_ima_ea_eacs,adpcm_ima_ea_sead,adpcm_ima_iss,adpcm_ima_moflex,adpcm_ima_mtf,adpcm_ima_oki,adpcm_ima_qt,adpcm_ima_qt_at,adpcm_ima_rad,adpcm_ima_smjpeg,adpcm_ima_ssi,adpcm_ima_wav,adpcm_ima_ws,adpcm_ms,adpcm_mtaf,adpcm_psx,adpcm_sbpro_2,adpcm_sbpro_3,adpcm_sbpro_4,adpcm_swf,adpcm_thp,adpcm_thp_le,adpcm_vima,adpcm_xa,adpcm_xmd,adpcm_yamaha,adpcm_zork,aic,alac,alias_pix,amrnb,amrwb,amv,anm,ansi,anull,apac,ape,apng,arbc,argo,ass,asv1,asv2,atrac1,atrac3,atrac3al,atrac3p,atrac3pal,aura,aura2,av1,av1_qsv,bethsoftvid,bfi,bink,binkaudio_dct,binkaudio_rdft,bintext,bitpacked,bmp,bmv_audio,bmv_video,bonk,brender_pix,c93,cbd2_dpcm,ccaption,cdgraphics,cdtoons,cdxl,cinepak,clearvideo,cljr,cook,cpia,cscd,cyuv,dca,dds,derf_dpcm,dfa,dfpwm,dirac,dnxhd,dnxhr,dolby_e,dpx,dsd_lsbf,dsd_msbf,dsicinaudio,dsicinvideo,dss_sp,dvaudio,dvbsub,dvdsub,dvvideo,dxa,dxtory,eacmv,eamad,eatgq,eatgv,eatqi,eightbps,eightsvx_exp,eightsvx_fib,escape124,escape130,evrc,exr,ffv1,ffvhuff,ffwavesynth,fits,flac,flashsv,flashsv2,flic,flv,fmvc,fourxm,ftr,g723_1,g729,gdv,gem,gif,gremlin_dpcm,gsm,gsm_ms,gsm_ms_at,h261,h263,h263_v4l2m2m,h263i,h263p,hap,hca,hcom,hdr,hnm4_video,hq_hqa,hqx,huffyuv,hymt,iac,idcin,idf,iff_ilbm,ilbc,imc,indeo2,indeo3,indeo4,indeo5,interplay_acm,interplay_dpcm,interplay_video,ipu,jacosub,jpeg2000,jpegls,jv,kgv1,kmvc,lagarith,libaribb24,libaribcaption,libaom,libaom_av1,libcodec2,libdav1d,libgsm,libgsm_ms,libilbc,libjxl,liblc3,libopencore_amrnb,libopencore_amrwb,libopenh264,libopenjpeg,libopus,librsvg,libschroedinger,libspeex,libvorbis,libvpx_vp8,libvpx_vp9,libzvbi_teletext,loco,lscr,m101,mace3,mace6,mdec,media100,metasound,microdvd,mimic,misc4,mjpeg,mjpeg_qsv,mjpegb,mlp,mmvideo,motionpixels,mp1,mp1float,mp2,mp2float,mp3,mp3adu,mp3adufloat,mp3float,mp3on4,mp3on4float,mpc7,mpc8,mpeg1_v4l2m2m,mpeg1video,mpeg2_qsv,mpeg2_v4l2m2m,mpeg2video,mpeg4,mpeg4_v4l2m2m,mpegvideo,mpl2,msa1,mscc,msmpeg4v1,msmpeg4v2,msmpeg4v3,msnsiren,msp2,msrle,mss1,mss2,msvideo1,mszh,mts2,mv30,mvc1,mvc2,mvdv,mvha,mwsc,mxpeg,nellymoser,nuv,on2avc,opus,paf_audio,paf_video,pam,pbm,pcm_alaw,pcm_bluray,pcm_dvd,pcm_f16le,pcm_f24le,pcm_f32be,pcm_f32le,pcm_f64be,pcm_f64le,pcm_lxf,pcm_mulaw,pcm_s16be,pcm_s16be_planar,pcm_s16le,pcm_s16le_planar,pcm_s24be,pcm_s24daud,pcm_s24le,pcm_s24le_planar,pcm_s32be,pcm_s32le,pcm_s32le_planar,pcm_s64be,pcm_s64le,pcm_s8,pcm_s8_planar,pcm_sga,pcm_u16be,pcm_u16le,pcm_u24be,pcm_u24le,pcm_u32be,pcm_u32le,pcm_u8,pcm_vidc,pcx,pfm,pgm,pgmyuv,pgssub,pgx,phm,photocd,pictor,pjs,png,ppm,prores,prosumer,psd,ptx,qcelp,qdm2,qdmc,qdraw,qoa,qoi,qpeg,qtrle,r10k,r210,ra_144,ra_288,rasc,rawvideo,realtext,rka,rl2,roq,roq_dpcm,rpza,rscc,rv10,rv20,s302m,sami,sanm,sbc,screenpresso,sdx2_dpcm,sgi,sgirle,shorten,simbiosis_imx,sipr,siren,smackaud,smacker,smc,smvjpeg,snow,sol_dpcm,sonic,sp5x,speedhq,speex,srgc,srt,ssa,stl,subrip,subviewer,subviewer1,sunrast,svq1,svq3,tak,targa,targa_y216,tdsc,text,theora,thp,tiertexseqvideo,tiff,tmv,truehd,truemotion1,truemotion2,truemotion2rt,truespeech,tscc,tscc2,tta,twinvq,txd,ulti,utvideo,v210,v210x,v308,v408,v410,vb,vble,vcr1,vmdaudio,vmdvideo,vmnc,vnull,vorbis,vp3,vp4,vp5,vp6,vp6a,vp6f,vp7,vp8,vp8_qsv,vp8_v4l2m2m,vp9,vp9_qsv,vp9_v4l2m2m,vplayer,vqa,vqc,wady_dpcm,wavarc,wavpack,wbmp,wcmv,webp,webvtt,wmav1,wmav2,wmavoice,wmv1,wmv2,wnv1,wrapped_avframe,ws_snd1,xan_dpcm,xan_wc3,xan_wc4,xbin,xbm,xface,xl,xpm,xsub,xwd,y41p,ylc,yop,yuv4,zero12v,zerocodec,zlib,zmbv,'\n",
      "  libavutil      59. 39.100 / 59. 39.100\n",
      "  libavcodec     61. 19.101 / 61. 19.101\n",
      "  libavformat    61.  7.100 / 61.  7.100\n",
      "  libavdevice    61.  3.100 / 61.  3.100\n",
      "  libavfilter    10.  4.100 / 10.  4.100\n",
      "  libswscale      8.  3.100 /  8.  3.100\n",
      "  libswresample   5.  3.100 /  5.  3.100\n",
      "  libpostproc    58.  3.100 / 58.  3.100\n",
      "Input #0, mov,mp4,m4a,3gp,3g2,mj2, from './video_data/Pep_Guardiola_explained_why_Chelsea_is_so_good.mp4':\n",
      "  Metadata:\n",
      "    major_brand     : mp42\n",
      "    minor_version   : 0\n",
      "    compatible_brands: isommp42\n",
      "    creation_time   : 2025-02-24T19:13:04.000000Z\n",
      "    encoder         : Google\n",
      "  Duration: 00:00:38.48, start: 0.000000, bitrate: 430 kb/s\n",
      "  Stream #0:0[0x1](und): Video: h264 (libopenh264) (Main) (avc1 / 0x31637661), yuv420p(progressive), 640x350, 299 kb/s, 25.94 fps, 25.94 tbr, 14970 tbn (default)\n",
      "      Metadata:\n",
      "        creation_time   : 2025-02-24T19:13:04.000000Z\n",
      "        handler_name    : ISO Media file produced by Google Inc. Created on: 02/24/2025.\n",
      "        vendor_id       : [0][0][0][0]\n",
      "  Stream #0:1[0x2](und): Audio: aac (LC) (mp4a / 0x6134706D), 44100 Hz, stereo, fltp, 128 kb/s (default)\n",
      "      Metadata:\n",
      "        creation_time   : 2025-02-24T19:13:04.000000Z\n",
      "        handler_name    : ISO Media file produced by Google Inc. Created on: 02/24/2025.\n",
      "        vendor_id       : [0][0][0][0]\n",
      "Stream mapping:\n",
      "  Stream #0:1 -> #0:0 (aac (native) -> pcm_s16le (native))\n",
      "Press [q] to stop, [?] for help\n",
      "Output #0, wav, to './video_data/origin_audio_Pep_Guardiola_explained_why_Chelsea_is_so_good.wav':\n",
      "  Metadata:\n",
      "    major_brand     : mp42\n",
      "    minor_version   : 0\n",
      "    compatible_brands: isommp42\n",
      "    ISFT            : Lavf61.7.100\n",
      "  Stream #0:0(und): Audio: pcm_s16le ([1][0][0][0] / 0x0001), 16000 Hz, mono, s16, 256 kb/s (default)\n",
      "      Metadata:\n",
      "        creation_time   : 2025-02-24T19:13:04.000000Z\n",
      "        handler_name    : ISO Media file produced by Google Inc. Created on: 02/24/2025.\n",
      "        vendor_id       : [0][0][0][0]\n",
      "        encoder         : Lavc61.19.101 pcm_s16le\n",
      "[out#0/wav @ 0x559f8bc19440] video:0KiB audio:1202KiB subtitle:0KiB other streams:0KiB global headers:0KiB muxing overhead: 0.006335%\n",
      "size=    1202KiB time=00:00:38.47 bitrate= 256.0kbits/s speed=1.84e+03x    \n"
     ]
    },
    {
     "data": {
      "text/plain": [
       "'./video_data/origin_audio_Pep_Guardiola_explained_why_Chelsea_is_so_good.wav'"
      ]
     },
     "execution_count": 9,
     "metadata": {},
     "output_type": "execute_result"
    }
   ],
   "source": [
    "video_name = \"Pep_Guardiola_explained_why_Chelsea_is_so_good\"\n",
    "video_path = f\"./video_data/{video_name}.mp4\"\n",
    "audio_path = f\"./video_data/origin_audio_{video_name}.wav\"\n",
    "utils.extract_audio(video_path=video_path, audio_path=audio_path)"
   ]
  },
  {
   "cell_type": "code",
   "execution_count": 10,
   "id": "ba6bdbba",
   "metadata": {},
   "outputs": [],
   "source": [
    "def transcribe_audio(audio_path, model_size=\"small\"):\n",
    "    \"\"\"\n",
    "    Transcribe audio using whisper.\n",
    "    \"\"\"\n",
    "    model = whisper.load_model(model_size)\n",
    "    result = model.transcribe(audio_path)\n",
    "    return result[\"text\"]"
   ]
  },
  {
   "cell_type": "code",
   "execution_count": 11,
   "id": "811a25a8",
   "metadata": {},
   "outputs": [],
   "source": [
    "text = transcribe_audio(audio_path)"
   ]
  },
  {
   "cell_type": "code",
   "execution_count": 12,
   "id": "cb576d60",
   "metadata": {},
   "outputs": [
    {
     "data": {
      "text/plain": [
       "\" Why Chelsea plays so good? Because they have three centre defender closers, the two-holding midfielders, the relating move closers, the pocket closers, they have structured the five and two players so, so close. And the distances are so close. And at the same time, they are so wide with the wind backs, they are so deep with the Burnler mookers in behind. That's why you cannot be close because they push you here, push you here, and a lot of good players in the middle. And that's why it's difficult to, you know, to face the teams like they want the ball, they want to play with the ball. And we try to do it since the day one we arrived here. You've moved nicely onto Chelsea.\""
      ]
     },
     "execution_count": 12,
     "metadata": {},
     "output_type": "execute_result"
    }
   ],
   "source": [
    "text"
   ]
  },
  {
   "cell_type": "markdown",
   "id": "4382c9e0",
   "metadata": {},
   "source": [
    "### Translate text"
   ]
  },
  {
   "cell_type": "code",
   "execution_count": 13,
   "id": "2706f5f5",
   "metadata": {},
   "outputs": [],
   "source": [
    "# import request\n",
    "# from config import DEEP_API_KEY\n",
    "\n",
    "# def translate_text(text, target_lang=\"EN\"):\n",
    "#     \"\"\"\n",
    "#     Translate text to the target language using DeepL API.\n",
    "#     \"\"\"\n",
    "#     url = \"https://api-free.deepl.com/v2/translate\"\n",
    "#     payload = {\n",
    "#         \"auth_key\":DEEP_API_KEY, \n",
    "#         \"text\":text, \n",
    "#         \"target_lang\":target_lang\n",
    "#     }\n"
   ]
  },
  {
   "cell_type": "code",
   "execution_count": null,
   "id": "c39fb9c8",
   "metadata": {},
   "outputs": [],
   "source": [
    "api_print = os.getenv(\"DEEP_API_KEY\")\n",
    "api_print"
   ]
  },
  {
   "cell_type": "code",
   "execution_count": 15,
   "id": "dbcd2fb1",
   "metadata": {},
   "outputs": [],
   "source": [
    "import deepl\n",
    "import os\n",
    "#from config import DEEP_API_KEY\n",
    "\n",
    "def translate_text(text, target_lang, context=None):\n",
    "    \"\"\"\n",
    "    Translate text using DeepL\n",
    "    \"\"\"\n",
    "    DEEP_API_KEY = os.getenv(\"DEEP_API_KEY\")\n",
    "    translator = deepl.Translator(DEEP_API_KEY)\n",
    "\n",
    "    result = translator.translate_text(text=text, \n",
    "                                        target_lang=target_lang, \n",
    "                                        context=context)\n",
    "    return result.text\n",
    "\n"
   ]
  },
  {
   "cell_type": "code",
   "execution_count": 16,
   "id": "3a25174e",
   "metadata": {},
   "outputs": [],
   "source": [
    "context = \"This is a tactic football class video\"\n",
    "text_translated = translate_text(text, target_lang=\"PT-BR\", context=context)"
   ]
  },
  {
   "cell_type": "code",
   "execution_count": 17,
   "id": "d53da527",
   "metadata": {},
   "outputs": [
    {
     "name": "stdout",
     "output_type": "stream",
     "text": [
      " Why Chelsea plays so good? Because they have three centre defender closers, the two-holding midfielders, the relating move closers, the pocket closers, they have structured the five and two players so, so close. And the distances are so close. And at the same time, they are so wide with the wind backs, they are so deep with the Burnler mookers in behind. That's why you cannot be close because they push you here, push you here, and a lot of good players in the middle. And that's why it's difficult to, you know, to face the teams like they want the ball, they want to play with the ball. And we try to do it since the day one we arrived here. You've moved nicely onto Chelsea.\n",
      " Por que o Chelsea joga tão bem? Porque eles têm três zagueiros centrais mais próximos, dois meio-campistas de contenção, os que se movimentam em relação a eles, os que fecham o bolso, eles estruturaram os cinco e os dois jogadores de forma muito, muito próxima. E as distâncias são muito próximas. E, ao mesmo tempo, eles são tão amplos com os wind backs, são tão profundos com os mookers do Burnler atrás. É por isso que você não pode ficar perto, porque eles empurram você para cá, empurram você para lá, e há muitos bons jogadores no meio. É por isso que é difícil, sabe, enfrentar as equipes que querem a bola, que querem jogar com a bola. E tentamos fazer isso desde o primeiro dia em que chegamos aqui. Você passou muito bem para o Chelsea.\n"
     ]
    }
   ],
   "source": [
    "print(text)\n",
    "print(text_translated)"
   ]
  },
  {
   "cell_type": "markdown",
   "id": "b0b9d5b0",
   "metadata": {},
   "source": [
    "### TTS (Text To Speech)"
   ]
  },
  {
   "cell_type": "code",
   "execution_count": 18,
   "id": "d2517add",
   "metadata": {},
   "outputs": [],
   "source": [
    "import azure.cognitiveservices.speech as speechsdk"
   ]
  },
  {
   "cell_type": "code",
   "execution_count": null,
   "id": "ab487fb8",
   "metadata": {},
   "outputs": [],
   "source": [
    "AZURE_TTS_KEY = os.getenv(\"AZURE_TTS_KEY\")\n",
    "AZURE_REGION = os.getenv(\"AZURE_REGION\")\n",
    "#print(AZURE_TTS_KEY)\n",
    "#print(AZURE_REGION)\n"
   ]
  },
  {
   "cell_type": "code",
   "execution_count": 20,
   "id": "5264b247",
   "metadata": {},
   "outputs": [],
   "source": [
    "def synthesize_speech(text:str, output_path:str, voice:str=\"pt-BR-MacerioMultilingualNeural\"):\n",
    "    \"\"\"\n",
    "    Convert text to speech\n",
    "    \"\"\"\n",
    "\n",
    "    try:\n",
    "        # Setting the auth\n",
    "        AZURE_TTS_KEY = os.getenv(\"AZURE_TTS_KEY\")\n",
    "        AZURE_REGION = os.getenv(\"AZURE_REGION\")\n",
    "        speech_config = speechsdk.SpeechConfig(subscription=AZURE_TTS_KEY, region=AZURE_REGION)\n",
    "        speech_config.speech_synthesis_voice_name = voice\n",
    "\n",
    "        # Define the output\n",
    "        audio_config = speechsdk.audio.AudioOutputConfig(filename=output_path)\n",
    "\n",
    "        # Create the synthesizer\n",
    "        synthesizer = speechsdk.SpeechSynthesizer(speech_config=speech_config, audio_config=audio_config)\n",
    "\n",
    "        # Run synthesizer\n",
    "        result = synthesizer.speak_text_async(text).get()\n",
    "\n",
    "        # Check erro\n",
    "        if result.reason == speechsdk.ResultReason.SynthesizingAudioCompleted:\n",
    "            print(f\"Audio in PT-BR created: {output_path}\")\n",
    "            return output_path\n",
    "        elif result.reason == speechsdk.ResultReason.Canceled:\n",
    "            cancellation_details = result.cancellation_details\n",
    "            raise RuntimeError(f\"Speech synthesis canceled: {cancellation_details.reason}. Error details: {cancellation_details.error_details}\")\n",
    "\n",
    "    except Exception as e:\n",
    "        raise RuntimeError(f\"An error when synthesizing speech: {e}\")"
   ]
  },
  {
   "cell_type": "code",
   "execution_count": null,
   "id": "ad99ea2f",
   "metadata": {},
   "outputs": [],
   "source": [
    "output_audio_path = f\"./video_data/traslated_audio_{video_name}.wav\"\n",
    "synthesize_speech(text_translated, output_audio_path)"
   ]
  },
  {
   "cell_type": "markdown",
   "id": "e2d0f5ab",
   "metadata": {},
   "source": [
    "### Merge Audio"
   ]
  },
  {
   "cell_type": "code",
   "execution_count": null,
   "id": "eaf595ba",
   "metadata": {},
   "outputs": [
    {
     "name": "stderr",
     "output_type": "stream",
     "text": [
      "ffmpeg version 7.1.1 Copyright (c) 2000-2025 the FFmpeg developers\n",
      "  built with gcc 14 (GCC)\n",
      "  configuration: --prefix=/usr --bindir=/usr/bin --datadir=/usr/share/ffmpeg --docdir=/usr/share/doc/ffmpeg --incdir=/usr/include/ffmpeg --libdir=/usr/lib64 --mandir=/usr/share/man --arch=x86_64 --optflags='-O2 -flto=auto -ffat-lto-objects -fexceptions -g -grecord-gcc-switches -pipe -Wall -Werror=format-security -Wno-error=incompatible-pointer-types -Wp,-U_FORTIFY_SOURCE,-D_FORTIFY_SOURCE=3 -Wp,-D_GLIBCXX_ASSERTIONS -specs=/usr/lib/rpm/redhat/redhat-hardened-cc1 -fstack-protector-strong -specs=/usr/lib/rpm/redhat/redhat-annobin-cc1 -m64 -march=x86-64 -mtune=generic -fasynchronous-unwind-tables -fstack-clash-protection -fcf-protection -mtls-dialect=gnu2 -fno-omit-frame-pointer -mno-omit-leaf-frame-pointer ' --extra-ldflags='-Wl,-z,relro -Wl,--as-needed -Wl,-z,pack-relative-relocs -Wl,-z,now -specs=/usr/lib/rpm/redhat/redhat-hardened-ld -specs=/usr/lib/rpm/redhat/redhat-annobin-cc1 -Wl,--build-id=sha1 -specs=/usr/lib/rpm/redhat/redhat-package-notes ' --disable-htmlpages --enable-pic --disable-stripping --enable-shared --disable-static --enable-gpl --enable-version3 --enable-libsmbclient --disable-openssl --enable-bzlib --enable-frei0r --enable-chromaprint --enable-gcrypt --enable-gnutls --enable-ladspa --enable-lcms2 --enable-libshaderc --enable-vulkan --disable-cuda-sdk --enable-libaom --enable-libaribb24 --enable-libaribcaption --enable-libass --enable-libbluray --enable-libbs2b --enable-libcaca --enable-libcdio --enable-libcodec2 --enable-libdav1d --enable-libdc1394 --enable-libdvdnav --enable-libdvdread --enable-libfdk-aac --enable-libflite --enable-libfontconfig --enable-libfreetype --enable-libfribidi --enable-libharfbuzz --enable-libgme --enable-libgsm --enable-libiec61883 --enable-libilbc --enable-libjack --enable-libjxl --enable-liblc3 --enable-libmodplug --enable-libmp3lame --enable-libmysofa --enable-libopenh264 --enable-libopenjpeg --enable-libopenmpt --enable-libopus --enable-libplacebo --enable-libpulse --enable-libqrencode --enable-librabbitmq --enable-librav1e --enable-librist --enable-librsvg --enable-librubberband --enable-libsnappy --enable-libsvtav1 --enable-libsoxr --enable-libspeex --enable-libssh --enable-libsrt --enable-libtesseract --enable-libtheora --enable-libtwolame --enable-libvidstab --enable-libvmaf --enable-libvorbis --enable-libv4l2 --enable-libvpx --enable-libwebp --enable-libxml2 --enable-libzimg --enable-libzmq --enable-libzvbi --enable-lto --enable-libvpl --enable-lv2 --enable-vaapi --enable-vdpau --enable-libopencore-amrnb --enable-libopencore-amrwb --enable-libvo-amrwbenc --enable-libxvid --enable-openal --enable-opencl --enable-opengl --enable-pthreads --enable-vapoursynth --enable-muxers --enable-demuxers --enable-hwaccels --disable-encoders --disable-decoders --disable-decoder='h264,hevc,libxevd,vc1,vvc' --enable-encoder=',a64multi,a64multi5,aac,libfdk_aac,ac3,adpcm_adx,adpcm_argo,adpcm_g722,adpcm_g726,adpcm_g726le,adpcm_ima_alp,adpcm_ima_amv,adpcm_ima_apm,adpcm_ima_qt,adpcm_ima_ssi,adpcm_ima_wav,adpcm_ima_ws,adpcm_ms,adpcm_swf,adpcm_yamaha,alac,alias_pix,amv,anull,apng,ass,asv1,asv2,av1_amf,av1_nvenc,av1_qsv,av1_vaapi,bitpacked,bmp,cinepak,cljr,dca,dfpwm,dnxhd,dnxhr,dpx,dvbsub,dvdsub,dvvideo,exr,ffv1,ffvhuff,flac,flashsv,flashsv2,flv,g723_1,gif,h261,h263,h263_v4l2m2m,h263p,h264_amf,h264_nvenc,h264_qsv,h264_v4l2m2m,h264_vaapi,hap,hdr,hevc_amf,hevc_nvenc,hevc_qsv,hevc_v4l2m2m,hevc_vaapi,huffyuv,ilbc,jpeg2000,jpegls,libaom,libaom_av1,libcodec2,libgsm,libgsm_ms,libilbc,libjxl,liblc3,libmp3lame,libopencore_amrnb,libopenh264,libopenjpeg,libopus,librav1e,libspeex,libsvtav1,libtheora,libtwolame,libvo_amrwbenc,libvorbis,libvpx_vp8,libvpx_vp9,libwebp,libwebp_anim,libxvid,mjpeg,mjpeg_qsv,mjpeg_vaapi,mlp,mp2,mp2fixed,mpeg1video,mpeg2_qsv,mpeg2_vaapi,mpeg2video,mpeg4,mpeg4_v4l2m2m,msmpeg4v2,msmpeg4v3,msvideo1,nellymoser,opus,pam,pbm,pcm_alaw,pcm_f32be,pcm_f32le,pcm_f64be,pcm_f64le,pcm_mulaw,pcm_s16be,pcm_s16be_planar,pcm_s16le,pcm_s16le_planar,pcm_s24be,pcm_s24le,pcm_s24le_planar,pcm_s32be,pcm_s32le,pcm_s32le_planar,pcm_s8,pcm_s8_planar,pcm_u16be,pcm_u16le,pcm_u24be,pcm_u24le,pcm_u32be,pcm_u32le,pcm_u8,pcx,pgm,pgmyuv,phm,png,ppm,prores,prores_aw,prores_ks,qoi,qtrle,r10k,r210,ra_144,rawvideo,roq,roq_dpcm,rpza,rv10,rv20,s302m,sbc,sgi,smc,snow,sonic,sonic_ls,speedhq,srt,ssa,subrip,sunrast,svq1,targa,text,tiff,truehd,tta,ttml,utvideo,v210,v308,v408,v410,vc1_qsv,vc1_v4l2m2m,vc2,vnull,vorbis,vp8_qsv,vp8_v4l2m2m,vp8_vaapi,vp9_qsv,vp9_vaapi,wavpack,wbmp,webvtt,wmav1,wmav2,wmv1,wmv2,wrapped_avframe,xbm,xface,xsub,xwd,y41p,yuv4,zlib,zmbv,' --enable-decoder=',aac,aasc,libfdk_aac,ac3,acelp_kelvin,adpcm_4xm,adpcm_adx,adpcm_afc,adpcm_agm,adpcm_aica,adpcm_argo,adpcm_ct,adpcm_dtk,adpcm_ea,adpcm_ea_maxis_xa,adpcm_ea_r1,adpcm_ea_r2,adpcm_ea_r3,adpcm_ea_xas,adpcm_g722,adpcm_g726,adpcm_g726le,adpcm_ima_acorn,adpcm_ima_alp,adpcm_ima_amv,adpcm_ima_apc,adpcm_ima_apm,adpcm_ima_cunning,adpcm_ima_dat4,adpcm_ima_dk3,adpcm_ima_dk4,adpcm_ima_ea_eacs,adpcm_ima_ea_sead,adpcm_ima_iss,adpcm_ima_moflex,adpcm_ima_mtf,adpcm_ima_oki,adpcm_ima_qt,adpcm_ima_qt_at,adpcm_ima_rad,adpcm_ima_smjpeg,adpcm_ima_ssi,adpcm_ima_wav,adpcm_ima_ws,adpcm_ms,adpcm_mtaf,adpcm_psx,adpcm_sbpro_2,adpcm_sbpro_3,adpcm_sbpro_4,adpcm_swf,adpcm_thp,adpcm_thp_le,adpcm_vima,adpcm_xa,adpcm_xmd,adpcm_yamaha,adpcm_zork,aic,alac,alias_pix,amrnb,amrwb,amv,anm,ansi,anull,apac,ape,apng,arbc,argo,ass,asv1,asv2,atrac1,atrac3,atrac3al,atrac3p,atrac3pal,aura,aura2,av1,av1_qsv,bethsoftvid,bfi,bink,binkaudio_dct,binkaudio_rdft,bintext,bitpacked,bmp,bmv_audio,bmv_video,bonk,brender_pix,c93,cbd2_dpcm,ccaption,cdgraphics,cdtoons,cdxl,cinepak,clearvideo,cljr,cook,cpia,cscd,cyuv,dca,dds,derf_dpcm,dfa,dfpwm,dirac,dnxhd,dnxhr,dolby_e,dpx,dsd_lsbf,dsd_msbf,dsicinaudio,dsicinvideo,dss_sp,dvaudio,dvbsub,dvdsub,dvvideo,dxa,dxtory,eacmv,eamad,eatgq,eatgv,eatqi,eightbps,eightsvx_exp,eightsvx_fib,escape124,escape130,evrc,exr,ffv1,ffvhuff,ffwavesynth,fits,flac,flashsv,flashsv2,flic,flv,fmvc,fourxm,ftr,g723_1,g729,gdv,gem,gif,gremlin_dpcm,gsm,gsm_ms,gsm_ms_at,h261,h263,h263_v4l2m2m,h263i,h263p,hap,hca,hcom,hdr,hnm4_video,hq_hqa,hqx,huffyuv,hymt,iac,idcin,idf,iff_ilbm,ilbc,imc,indeo2,indeo3,indeo4,indeo5,interplay_acm,interplay_dpcm,interplay_video,ipu,jacosub,jpeg2000,jpegls,jv,kgv1,kmvc,lagarith,libaribb24,libaribcaption,libaom,libaom_av1,libcodec2,libdav1d,libgsm,libgsm_ms,libilbc,libjxl,liblc3,libopencore_amrnb,libopencore_amrwb,libopenh264,libopenjpeg,libopus,librsvg,libschroedinger,libspeex,libvorbis,libvpx_vp8,libvpx_vp9,libzvbi_teletext,loco,lscr,m101,mace3,mace6,mdec,media100,metasound,microdvd,mimic,misc4,mjpeg,mjpeg_qsv,mjpegb,mlp,mmvideo,motionpixels,mp1,mp1float,mp2,mp2float,mp3,mp3adu,mp3adufloat,mp3float,mp3on4,mp3on4float,mpc7,mpc8,mpeg1_v4l2m2m,mpeg1video,mpeg2_qsv,mpeg2_v4l2m2m,mpeg2video,mpeg4,mpeg4_v4l2m2m,mpegvideo,mpl2,msa1,mscc,msmpeg4v1,msmpeg4v2,msmpeg4v3,msnsiren,msp2,msrle,mss1,mss2,msvideo1,mszh,mts2,mv30,mvc1,mvc2,mvdv,mvha,mwsc,mxpeg,nellymoser,nuv,on2avc,opus,paf_audio,paf_video,pam,pbm,pcm_alaw,pcm_bluray,pcm_dvd,pcm_f16le,pcm_f24le,pcm_f32be,pcm_f32le,pcm_f64be,pcm_f64le,pcm_lxf,pcm_mulaw,pcm_s16be,pcm_s16be_planar,pcm_s16le,pcm_s16le_planar,pcm_s24be,pcm_s24daud,pcm_s24le,pcm_s24le_planar,pcm_s32be,pcm_s32le,pcm_s32le_planar,pcm_s64be,pcm_s64le,pcm_s8,pcm_s8_planar,pcm_sga,pcm_u16be,pcm_u16le,pcm_u24be,pcm_u24le,pcm_u32be,pcm_u32le,pcm_u8,pcm_vidc,pcx,pfm,pgm,pgmyuv,pgssub,pgx,phm,photocd,pictor,pjs,png,ppm,prores,prosumer,psd,ptx,qcelp,qdm2,qdmc,qdraw,qoa,qoi,qpeg,qtrle,r10k,r210,ra_144,ra_288,rasc,rawvideo,realtext,rka,rl2,roq,roq_dpcm,rpza,rscc,rv10,rv20,s302m,sami,sanm,sbc,screenpresso,sdx2_dpcm,sgi,sgirle,shorten,simbiosis_imx,sipr,siren,smackaud,smacker,smc,smvjpeg,snow,sol_dpcm,sonic,sp5x,speedhq,speex,srgc,srt,ssa,stl,subrip,subviewer,subviewer1,sunrast,svq1,svq3,tak,targa,targa_y216,tdsc,text,theora,thp,tiertexseqvideo,tiff,tmv,truehd,truemotion1,truemotion2,truemotion2rt,truespeech,tscc,tscc2,tta,twinvq,txd,ulti,utvideo,v210,v210x,v308,v408,v410,vb,vble,vcr1,vmdaudio,vmdvideo,vmnc,vnull,vorbis,vp3,vp4,vp5,vp6,vp6a,vp6f,vp7,vp8,vp8_qsv,vp8_v4l2m2m,vp9,vp9_qsv,vp9_v4l2m2m,vplayer,vqa,vqc,wady_dpcm,wavarc,wavpack,wbmp,wcmv,webp,webvtt,wmav1,wmav2,wmavoice,wmv1,wmv2,wnv1,wrapped_avframe,ws_snd1,xan_dpcm,xan_wc3,xan_wc4,xbin,xbm,xface,xl,xpm,xsub,xwd,y41p,ylc,yop,yuv4,zero12v,zerocodec,zlib,zmbv,'\n",
      "  libavutil      59. 39.100 / 59. 39.100\n",
      "  libavcodec     61. 19.101 / 61. 19.101\n",
      "  libavformat    61.  7.100 / 61.  7.100\n",
      "  libavdevice    61.  3.100 / 61.  3.100\n",
      "  libavfilter    10.  4.100 / 10.  4.100\n",
      "  libswscale      8.  3.100 /  8.  3.100\n",
      "  libswresample   5.  3.100 /  5.  3.100\n",
      "  libpostproc    58.  3.100 / 58.  3.100\n",
      "Input #0, mov,mp4,m4a,3gp,3g2,mj2, from './video_data/Pep_Guardiola_explained_why_Chelsea_is_so_good.mp4':\n",
      "  Metadata:\n",
      "    major_brand     : mp42\n",
      "    minor_version   : 0\n",
      "    compatible_brands: isommp42\n",
      "    creation_time   : 2025-02-24T19:13:04.000000Z\n",
      "    encoder         : Google\n",
      "  Duration: 00:00:38.48, start: 0.000000, bitrate: 430 kb/s\n",
      "  Stream #0:0[0x1](und): Video: h264 (libopenh264) (Main) (avc1 / 0x31637661), yuv420p(progressive), 640x350, 299 kb/s, 25.94 fps, 25.94 tbr, 14970 tbn (default)\n",
      "      Metadata:\n",
      "        creation_time   : 2025-02-24T19:13:04.000000Z\n",
      "        handler_name    : ISO Media file produced by Google Inc. Created on: 02/24/2025.\n",
      "        vendor_id       : [0][0][0][0]\n",
      "  Stream #0:1[0x2](und): Audio: aac (LC) (mp4a / 0x6134706D), 44100 Hz, stereo, fltp, 128 kb/s (default)\n",
      "      Metadata:\n",
      "        creation_time   : 2025-02-24T19:13:04.000000Z\n",
      "        handler_name    : ISO Media file produced by Google Inc. Created on: 02/24/2025.\n",
      "        vendor_id       : [0][0][0][0]\n",
      "[aist#1:0/pcm_s16le @ 0x56025c43d840] Guessed Channel Layout: mono\n",
      "Input #1, wav, from './video_data/traslated_audio_Pep_Guardiola_explained_why_Chelsea_is_so_good.wav':\n",
      "  Duration: 00:00:44.66, bitrate: 256 kb/s\n",
      "  Stream #1:0: Audio: pcm_s16le ([1][0][0][0] / 0x0001), 16000 Hz, mono, s16, 256 kb/s\n",
      "Stream mapping:\n",
      "  Stream #0:0 -> #0:0 (copy)\n",
      "  Stream #1:0 -> #0:1 (pcm_s16le (native) -> aac (native))\n",
      "Press [q] to stop, [?] for help\n",
      "Output #0, mp4, to './video_data/translated_Pep_Guardiola_explained_why_Chelsea_is_so_good.mp4':\n",
      "  Metadata:\n",
      "    major_brand     : mp42\n",
      "    minor_version   : 0\n",
      "    compatible_brands: isommp42\n",
      "    encoder         : Lavf61.7.100\n",
      "  Stream #0:0(und): Video: h264 (Main) (avc1 / 0x31637661), yuv420p(progressive), 640x350, q=2-31, 299 kb/s, 25.94 fps, 25.94 tbr, 14970 tbn (default)\n",
      "      Metadata:\n",
      "        creation_time   : 2025-02-24T19:13:04.000000Z\n",
      "        handler_name    : ISO Media file produced by Google Inc. Created on: 02/24/2025.\n",
      "        vendor_id       : [0][0][0][0]\n",
      "  Stream #0:1: Audio: aac (LC) (mp4a / 0x6134706D), 16000 Hz, mono, fltp, 69 kb/s\n",
      "      Metadata:\n",
      "        encoder         : Lavc61.19.101 aac\n",
      "[out#0/mp4 @ 0x56025c4d7500] video:1406KiB audio:353KiB subtitle:0KiB other streams:0KiB global headers:0KiB muxing overhead: 1.182119%\n",
      "frame=  998 fps=0.0 q=-1.0 Lsize=    1780KiB time=00:00:38.42 bitrate= 379.4kbits/s speed= 234x    \n",
      "[aac @ 0x56025c451080] Qavg: 37644.160\n"
     ]
    },
    {
     "data": {
      "text/plain": [
       "'./video_data/translated_Pep_Guardiola_explained_why_Chelsea_is_so_good.mp4'"
      ]
     },
     "execution_count": 21,
     "metadata": {},
     "output_type": "execute_result"
    }
   ],
   "source": [
    "output_video_path = f\"./video_data/translated_{video_name}.mp4\"\n",
    "utils.merge_audio_with_video(video_path, output_audio_path, output_video_path)"
   ]
  },
  {
   "cell_type": "markdown",
   "id": "6666e9df",
   "metadata": {},
   "source": [
    "## Nova versão com timer"
   ]
  },
  {
   "cell_type": "code",
   "execution_count": null,
   "id": "49463fef",
   "metadata": {},
   "outputs": [],
   "source": [
    "#from faster_whisper import WhisperModel"
   ]
  },
  {
   "cell_type": "code",
   "execution_count": 2,
   "id": "15540f20",
   "metadata": {},
   "outputs": [
    {
     "name": "stderr",
     "output_type": "stream",
     "text": [
      "/home/davidtito/Documents/Projects/Tool_Translate_Language_Video/.venv/lib/python3.11/site-packages/tqdm/auto.py:21: TqdmWarning: IProgress not found. Please update jupyter and ipywidgets. See https://ipywidgets.readthedocs.io/en/stable/user_install.html\n",
      "  from .autonotebook import tqdm as notebook_tqdm\n"
     ]
    }
   ],
   "source": [
    "from tool_language_video_translate.asr import transcribe_audio_with_segments"
   ]
  },
  {
   "cell_type": "code",
   "execution_count": null,
   "id": "3b6c1a68",
   "metadata": {},
   "outputs": [],
   "source": [
    "video_name = \"Pep_Guardiola_explained_why_Chelsea_is_so_good\"\n",
    "video_path = f\"./video_data/{video_name}.mp4\"\n",
    "audio_path = f\"./video_data/origin_audio_{video_name}.wav\"\n",
    "# utils.extract_audio(video_path=video_path, audio_path=audio_path)\n",
    "segmentos = transcribe_audio_with_segments(audio_path, lang_src=\"en\", model_size=\"small\", device=\"cpu\")"
   ]
  },
  {
   "cell_type": "code",
   "execution_count": 4,
   "id": "dc7818de",
   "metadata": {},
   "outputs": [
    {
     "data": {
      "text/plain": [
       "[Segment(start=0.0, end=4.88, text=['Why', 'Chelsea', 'plays', 'so', 'good?', 'Because', 'they', 'have', 'three', 'central', 'defender', 'closers,']),\n",
       " Segment(start=4.88, end=7.88, text=['the', 'two-holding', 'midfielders,', 'the', 'relating', 'move', 'closers,', 'the', 'pocket', 'closers,']),\n",
       " Segment(start=7.88, end=11.52, text=['they', 'have', 'structured', 'the', 'five', 'and', 'two', 'players', 'so,', 'so', 'close.']),\n",
       " Segment(start=11.52, end=17.6, text=['And', 'the', 'distances', 'are', 'so', 'close,', 'and', 'at', 'the', 'same', 'time,', 'they', 'are', 'so', 'wide', 'with', 'the', 'windbacks,']),\n",
       " Segment(start=17.6, end=20.52, text=['they', 'are', 'so', 'deep', 'with', 'the', 'Burnler', 'mookers', 'in', 'behind.']),\n",
       " Segment(start=20.52, end=23.8, text=[\"That's\", 'why', 'you', 'cannot', 'be', 'close,', 'because', 'they', 'push', 'you', 'here,', 'push', 'you', 'here,']),\n",
       " Segment(start=23.8, end=25.64, text=['and', 'a', 'lot', 'of', 'good', 'players', 'in', 'the', 'middle.']),\n",
       " Segment(start=25.64, end=29.8, text=['And', \"that's\", 'why', \"it's\", 'difficult', 'to,', 'you', 'know,', 'to', 'face', 'the', 'teams', 'like', 'they', 'won', 'the', 'ball']),\n",
       " Segment(start=29.8, end=33.04, text=['and', 'they', 'want', 'to', 'play', 'with', 'the', 'ball.']),\n",
       " Segment(start=33.04, end=36.48, text=['And', 'we', 'try', 'to', 'do', 'it', 'since', 'the', 'day', 'one', 'we', 'arrived', 'here.']),\n",
       " Segment(start=36.48, end=38.48, text=[\"You've\", 'moved', 'nicely', 'onto', 'Chelsea.'])]"
      ]
     },
     "execution_count": 4,
     "metadata": {},
     "output_type": "execute_result"
    }
   ],
   "source": [
    "segmentos"
   ]
  },
  {
   "cell_type": "code",
   "execution_count": 5,
   "id": "07da3c9f",
   "metadata": {},
   "outputs": [
    {
     "data": {
      "text/plain": [
       "['Why Chelsea plays so good? Because they have three central defender closers,',\n",
       " 'the two-holding midfielders, the relating move closers, the pocket closers,',\n",
       " 'they have structured the five and two players so, so close.',\n",
       " 'And the distances are so close, and at the same time, they are so wide with the windbacks,',\n",
       " 'they are so deep with the Burnler mookers in behind.',\n",
       " \"That's why you cannot be close, because they push you here, push you here,\",\n",
       " 'and a lot of good players in the middle.',\n",
       " \"And that's why it's difficult to, you know, to face the teams like they won the ball\",\n",
       " 'and they want to play with the ball.',\n",
       " 'And we try to do it since the day one we arrived here.',\n",
       " \"You've moved nicely onto Chelsea.\"]"
      ]
     },
     "execution_count": 5,
     "metadata": {},
     "output_type": "execute_result"
    }
   ],
   "source": [
    "list = [\" \".join(s.text) for s in segmentos]\n",
    "list"
   ]
  },
  {
   "cell_type": "code",
   "execution_count": 6,
   "id": "ea7bcc33",
   "metadata": {},
   "outputs": [],
   "source": [
    "from tool_language_video_translate.translate import load_translation_model, translate_segments\n",
    "# from transformers import MarianTokenizer, MarianMTModel"
   ]
  },
  {
   "cell_type": "code",
   "execution_count": null,
   "id": "622b0d00",
   "metadata": {},
   "outputs": [],
   "source": [
    "context = \"This is a tactic football class video\"\n",
    "target_lang=\"PT-BR\"\n",
    "\n",
    "tm = load_translation_model(lang_src=\"en\", lang_tgt=\"pt\")\n",
    "translated = translate_segments(segments=segmentos, tm=tm, batch_size=8, target_lang=target_lang, context=context)"
   ]
  },
  {
   "cell_type": "code",
   "execution_count": 8,
   "id": "7a0e3e71",
   "metadata": {},
   "outputs": [
    {
     "data": {
      "text/plain": [
       "['Por que o Chelsea joga tão bem? Porque eles têm três zagueiros centrais que fecham o gol,',\n",
       " 'os dois meio-campistas de contenção, os fechadores de jogadas relacionadas, os fechadores de bolsos,',\n",
       " 'eles estruturaram os cinco e dois jogadores de forma muito, muito próxima.',\n",
       " 'E as distâncias são tão próximas e, ao mesmo tempo, são tão amplas com os windbacks,',\n",
       " 'eles são tão profundos com os mookers do Burnler atrás.',\n",
       " 'É por isso que você não pode ficar perto, porque eles o empurram para cá, empurram para lá,',\n",
       " 'e muitos bons jogadores no meio.',\n",
       " 'E é por isso que é difícil, sabe, enfrentar as equipes como se elas tivessem ganhado a bola',\n",
       " 'e eles querem jogar com a bola.',\n",
       " 'E tentamos fazer isso desde o primeiro dia em que chegamos aqui.',\n",
       " 'Você passou muito bem para o Chelsea.']"
      ]
     },
     "execution_count": 8,
     "metadata": {},
     "output_type": "execute_result"
    }
   ],
   "source": [
    "translated\n",
    "\n",
    "# ['Por que o Chelsea joga tão bem? Porque eles têm três zagueiros centrais que fecham o gol,',\n",
    "#  'os dois meio-campistas de contenção, os fechadores de jogadas relacionadas, os fechadores de bolsos,',\n",
    "#  'eles estruturaram os cinco e dois jogadores de forma muito, muito próxima.',\n",
    "#  'E as distâncias são tão próximas e, ao mesmo tempo, são tão amplas com os windbacks,',\n",
    "#  'eles são tão profundos com os mookers do Burnler atrás.',\n",
    "#  'É por isso que você não pode ficar perto, porque eles o empurram para cá, empurram para lá,',\n",
    "#  'e muitos bons jogadores no meio.',\n",
    "#  'E é por isso que é difícil, sabe, enfrentar as equipes como se elas tivessem ganhado a bola',\n",
    "#  'e eles querem jogar com a bola.',\n",
    "#  'E tentamos fazer isso desde o primeiro dia em que chegamos aqui.',\n",
    "#  'Você passou muito bem para o Chelsea.']"
   ]
  },
  {
   "cell_type": "code",
   "execution_count": 9,
   "id": "187043f9",
   "metadata": {},
   "outputs": [],
   "source": [
    "## Build Timed Lines\n",
    "from tool_language_video_translate.timespeech import build_timed_lines"
   ]
  },
  {
   "cell_type": "code",
   "execution_count": 10,
   "id": "56ef4383",
   "metadata": {},
   "outputs": [
    {
     "data": {
      "text/plain": [
       "[TimedLine(start=0.0, end=4.88, text_translated='Por que o Chelsea joga tão bem? Porque eles têm três zagueiros centrais que fecham o gol,', rate_pct=122),\n",
       " TimedLine(start=4.88, end=7.88, text_translated='os dois meio-campistas de contenção, os fechadores de jogadas relacionadas, os fechadores de bolsos,', rate_pct=125),\n",
       " TimedLine(start=7.88, end=11.52, text_translated='eles estruturaram os cinco e dois jogadores de forma muito, muito próxima.', rate_pct=125),\n",
       " TimedLine(start=11.52, end=17.6, text_translated='E as distâncias são tão próximas e, ao mesmo tempo, são tão amplas com os windbacks,', rate_pct=92),\n",
       " TimedLine(start=17.6, end=20.52, text_translated='eles são tão profundos com os mookers do Burnler atrás.', rate_pct=125),\n",
       " TimedLine(start=20.52, end=23.8, text_translated='É por isso que você não pode ficar perto, porque eles o empurram para cá, empurram para lá,', rate_pct=125),\n",
       " TimedLine(start=23.8, end=25.64, text_translated='e muitos bons jogadores no meio.', rate_pct=116),\n",
       " TimedLine(start=25.64, end=29.8, text_translated='E é por isso que é difícil, sabe, enfrentar as equipes como se elas tivessem ganhado a bola', rate_pct=125),\n",
       " TimedLine(start=29.8, end=33.04, text_translated='e eles querem jogar com a bola.', rate_pct=75),\n",
       " TimedLine(start=33.04, end=36.48, text_translated='E tentamos fazer isso desde o primeiro dia em que chegamos aqui.', rate_pct=124),\n",
       " TimedLine(start=36.48, end=38.48, text_translated='Você passou muito bem para o Chelsea.', rate_pct=123)]"
      ]
     },
     "execution_count": 10,
     "metadata": {},
     "output_type": "execute_result"
    }
   ],
   "source": [
    "lines = build_timed_lines(segmentos, translated)\n",
    "lines"
   ]
  },
  {
   "cell_type": "code",
   "execution_count": 1,
   "id": "23da55e7",
   "metadata": {},
   "outputs": [
    {
     "name": "stderr",
     "output_type": "stream",
     "text": [
      "/home/davidtito/Documents/Projects/Tool_Translate_Language_Video/.venv/lib/python3.11/site-packages/tqdm/auto.py:21: TqdmWarning: IProgress not found. Please update jupyter and ipywidgets. See https://ipywidgets.readthedocs.io/en/stable/user_install.html\n",
      "  from .autonotebook import tqdm as notebook_tqdm\n"
     ]
    }
   ],
   "source": [
    "import pickle\n",
    "\n",
    "#with open(\"timed_lines.pkl\", \"wb\") as f:\n",
    "#    pickle.dump(lines, f)\n",
    "\n",
    "with open(\"timed_lines.pkl\", \"rb\") as f:\n",
    "    linhas_recuperadas = pickle.load(f)\n",
    "lines = linhas_recuperadas.copy()"
   ]
  },
  {
   "cell_type": "code",
   "execution_count": 11,
   "id": "7bcc2b53",
   "metadata": {},
   "outputs": [],
   "source": [
    "from tool_language_video_translate.tts import synthesize_all, synthesize_segment_tts\n",
    "import asyncio, nest_asyncio\n",
    "import os"
   ]
  },
  {
   "cell_type": "code",
   "execution_count": 12,
   "id": "9fdbad02",
   "metadata": {},
   "outputs": [],
   "source": [
    "# test synthesize_segment_tts function\n",
    "test_line = lines[0]\n",
    "tmpdir = f\"./temp/{video_name}\"\n",
    "outfile_test = os.path.join(tmpdir, \"segment_0_test.mp3\")\n",
    "# Create temporary directory if it doesn't exist\n",
    "os.makedirs(tmpdir, exist_ok=True)\n",
    "\n",
    "await synthesize_segment_tts(text=test_line.text_translated, \n",
    "                        rate_pct= test_line.rate_pct,   \n",
    "                        outfile=outfile_test,\n",
    "                        )"
   ]
  },
  {
   "cell_type": "code",
   "execution_count": 13,
   "id": "71eef428",
   "metadata": {},
   "outputs": [],
   "source": [
    "# Test synthesize_all function\n",
    "voice = 'pt-BR-MacerioMultilingualNeural'\n",
    "tmpdir = f\"./temp/{video_name}\"\n",
    "# tempdir\n",
    "outfiles = await synthesize_all(lines, tmpdir=tmpdir)\n",
    "# outfiles"
   ]
  },
  {
   "cell_type": "code",
   "execution_count": 14,
   "id": "a8eccae5",
   "metadata": {},
   "outputs": [
    {
     "data": {
      "text/plain": [
       "['./temp/Pep_Guardiola_explained_why_Chelsea_is_so_good/seg_00000.mp3',\n",
       " './temp/Pep_Guardiola_explained_why_Chelsea_is_so_good/seg_00001.mp3',\n",
       " './temp/Pep_Guardiola_explained_why_Chelsea_is_so_good/seg_00002.mp3',\n",
       " './temp/Pep_Guardiola_explained_why_Chelsea_is_so_good/seg_00003.mp3',\n",
       " './temp/Pep_Guardiola_explained_why_Chelsea_is_so_good/seg_00004.mp3',\n",
       " './temp/Pep_Guardiola_explained_why_Chelsea_is_so_good/seg_00005.mp3',\n",
       " './temp/Pep_Guardiola_explained_why_Chelsea_is_so_good/seg_00006.mp3',\n",
       " './temp/Pep_Guardiola_explained_why_Chelsea_is_so_good/seg_00007.mp3',\n",
       " './temp/Pep_Guardiola_explained_why_Chelsea_is_so_good/seg_00008.mp3',\n",
       " './temp/Pep_Guardiola_explained_why_Chelsea_is_so_good/seg_00009.mp3',\n",
       " './temp/Pep_Guardiola_explained_why_Chelsea_is_so_good/seg_00010.mp3']"
      ]
     },
     "execution_count": 14,
     "metadata": {},
     "output_type": "execute_result"
    }
   ],
   "source": [
    "outfiles"
   ]
  },
  {
   "cell_type": "code",
   "execution_count": 2,
   "id": "e3ed8d8c",
   "metadata": {},
   "outputs": [],
   "source": [
    "#with open(\"path_list.pkl\", \"wb\") as f:\n",
    "#    pickle.dump(outfiles, f)\n",
    "\n",
    "with open(\"path_list.pkl\", \"rb\") as f:\n",
    "    outfiles_recuperadas = pickle.load(f)\n",
    "outfiles = outfiles_recuperadas.copy()"
   ]
  },
  {
   "cell_type": "code",
   "execution_count": 5,
   "id": "d906d940",
   "metadata": {},
   "outputs": [],
   "source": [
    "# união de timeline\n",
    "from tool_language_video_translate.utils import build_timeline_audio\n",
    "\n",
    "timeline = build_timeline_audio(lines=lines, seg_files=outfiles, sr=44100)"
   ]
  },
  {
   "cell_type": "code",
   "execution_count": 6,
   "id": "aae20049",
   "metadata": {},
   "outputs": [
    {
     "data": {
      "text/plain": [
       "<_io.BufferedRandom name='./video_data/Pep_Guardiola_explained_why_Chelsea_is_so_good/tts_timeline.wav'>"
      ]
     },
     "execution_count": 6,
     "metadata": {},
     "output_type": "execute_result"
    }
   ],
   "source": [
    "import os\n",
    "video_name = \"Pep_Guardiola_explained_why_Chelsea_is_so_good\"\n",
    "#save timeline\n",
    "base_path = f\"./video_data/{video_name}\"\n",
    "os.makedirs(base_path, exist_ok=True)\n",
    "final_wav = os.path.join(base_path, \"tts_timeline.wav\")\n",
    "\n",
    "timeline.export(final_wav, format=\"wav\")"
   ]
  },
  {
   "cell_type": "code",
   "execution_count": null,
   "id": "b419beab",
   "metadata": {},
   "outputs": [],
   "source": []
  },
  {
   "cell_type": "code",
   "execution_count": 3,
   "id": "1bde3320",
   "metadata": {},
   "outputs": [],
   "source": [
    "from tool_language_video_translate.utils import mux_with_video"
   ]
  },
  {
   "cell_type": "code",
   "execution_count": 16,
   "id": "e7c1ecae",
   "metadata": {},
   "outputs": [
    {
     "name": "stdout",
     "output_type": "stream",
     "text": [
      "[workdir] /tmp/vtp_etpipam6\n"
     ]
    }
   ],
   "source": [
    "import tempfile\n",
    "workdir = tempfile.mkdtemp(prefix=\"vtp_\")\n",
    "print(f\"[workdir] {workdir}\")"
   ]
  },
  {
   "cell_type": "code",
   "execution_count": 9,
   "id": "e7142e10",
   "metadata": {},
   "outputs": [
    {
     "name": "stdout",
     "output_type": "stream",
     "text": [
      "[ffmpeg] ffmpeg -y -i ./video_data/Pep_Guardiola_explained_why_Chelsea_is_so_good.mp4 -i ./video_data/Pep_Guardiola_explained_why_Chelsea_is_so_good/tts_timeline.wav -map 0:v:0 -map 1:a:0 -c:v copy -c:a aac ./video_data/Pep_Guardiola_explained_why_Chelsea_is_so_good/translated_Pep_Guardiola_explained_why_Chelsea_is_so_good.mp4\n"
     ]
    },
    {
     "name": "stderr",
     "output_type": "stream",
     "text": [
      "ffmpeg version 7.1.1 Copyright (c) 2000-2025 the FFmpeg developers\n",
      "  built with gcc 14 (GCC)\n",
      "  configuration: --prefix=/usr --bindir=/usr/bin --datadir=/usr/share/ffmpeg --docdir=/usr/share/doc/ffmpeg --incdir=/usr/include/ffmpeg --libdir=/usr/lib64 --mandir=/usr/share/man --arch=x86_64 --optflags='-O2 -flto=auto -ffat-lto-objects -fexceptions -g -grecord-gcc-switches -pipe -Wall -Werror=format-security -Wno-error=incompatible-pointer-types -Wp,-U_FORTIFY_SOURCE,-D_FORTIFY_SOURCE=3 -Wp,-D_GLIBCXX_ASSERTIONS -specs=/usr/lib/rpm/redhat/redhat-hardened-cc1 -fstack-protector-strong -specs=/usr/lib/rpm/redhat/redhat-annobin-cc1 -m64 -march=x86-64 -mtune=generic -fasynchronous-unwind-tables -fstack-clash-protection -fcf-protection -mtls-dialect=gnu2 -fno-omit-frame-pointer -mno-omit-leaf-frame-pointer ' --extra-ldflags='-Wl,-z,relro -Wl,--as-needed -Wl,-z,pack-relative-relocs -Wl,-z,now -specs=/usr/lib/rpm/redhat/redhat-hardened-ld -specs=/usr/lib/rpm/redhat/redhat-annobin-cc1 -Wl,--build-id=sha1 -specs=/usr/lib/rpm/redhat/redhat-package-notes ' --disable-htmlpages --enable-pic --disable-stripping --enable-shared --disable-static --enable-gpl --enable-version3 --enable-libsmbclient --disable-openssl --enable-bzlib --enable-frei0r --enable-chromaprint --enable-gcrypt --enable-gnutls --enable-ladspa --enable-lcms2 --enable-libshaderc --enable-vulkan --disable-cuda-sdk --enable-libaom --enable-libaribb24 --enable-libaribcaption --enable-libass --enable-libbluray --enable-libbs2b --enable-libcaca --enable-libcdio --enable-libcodec2 --enable-libdav1d --enable-libdc1394 --enable-libdvdnav --enable-libdvdread --enable-libfdk-aac --enable-libflite --enable-libfontconfig --enable-libfreetype --enable-libfribidi --enable-libharfbuzz --enable-libgme --enable-libgsm --enable-libiec61883 --enable-libilbc --enable-libjack --enable-libjxl --enable-liblc3 --enable-libmodplug --enable-libmp3lame --enable-libmysofa --enable-libopenh264 --enable-libopenjpeg --enable-libopenmpt --enable-libopus --enable-libplacebo --enable-libpulse --enable-libqrencode --enable-librabbitmq --enable-librav1e --enable-librist --enable-librsvg --enable-librubberband --enable-libsnappy --enable-libsvtav1 --enable-libsoxr --enable-libspeex --enable-libssh --enable-libsrt --enable-libtesseract --enable-libtheora --enable-libtwolame --enable-libvidstab --enable-libvmaf --enable-libvorbis --enable-libv4l2 --enable-libvpx --enable-libwebp --enable-libxml2 --enable-libzimg --enable-libzmq --enable-libzvbi --enable-lto --enable-libvpl --enable-lv2 --enable-vaapi --enable-vdpau --enable-libopencore-amrnb --enable-libopencore-amrwb --enable-libvo-amrwbenc --enable-libxvid --enable-openal --enable-opencl --enable-opengl --enable-pthreads --enable-vapoursynth --enable-muxers --enable-demuxers --enable-hwaccels --disable-encoders --disable-decoders --disable-decoder='h264,hevc,libxevd,vc1,vvc' --enable-encoder=',a64multi,a64multi5,aac,libfdk_aac,ac3,adpcm_adx,adpcm_argo,adpcm_g722,adpcm_g726,adpcm_g726le,adpcm_ima_alp,adpcm_ima_amv,adpcm_ima_apm,adpcm_ima_qt,adpcm_ima_ssi,adpcm_ima_wav,adpcm_ima_ws,adpcm_ms,adpcm_swf,adpcm_yamaha,alac,alias_pix,amv,anull,apng,ass,asv1,asv2,av1_amf,av1_nvenc,av1_qsv,av1_vaapi,bitpacked,bmp,cinepak,cljr,dca,dfpwm,dnxhd,dnxhr,dpx,dvbsub,dvdsub,dvvideo,exr,ffv1,ffvhuff,flac,flashsv,flashsv2,flv,g723_1,gif,h261,h263,h263_v4l2m2m,h263p,h264_amf,h264_nvenc,h264_qsv,h264_v4l2m2m,h264_vaapi,hap,hdr,hevc_amf,hevc_nvenc,hevc_qsv,hevc_v4l2m2m,hevc_vaapi,huffyuv,ilbc,jpeg2000,jpegls,libaom,libaom_av1,libcodec2,libgsm,libgsm_ms,libilbc,libjxl,liblc3,libmp3lame,libopencore_amrnb,libopenh264,libopenjpeg,libopus,librav1e,libspeex,libsvtav1,libtheora,libtwolame,libvo_amrwbenc,libvorbis,libvpx_vp8,libvpx_vp9,libwebp,libwebp_anim,libxvid,mjpeg,mjpeg_qsv,mjpeg_vaapi,mlp,mp2,mp2fixed,mpeg1video,mpeg2_qsv,mpeg2_vaapi,mpeg2video,mpeg4,mpeg4_v4l2m2m,msmpeg4v2,msmpeg4v3,msvideo1,nellymoser,opus,pam,pbm,pcm_alaw,pcm_f32be,pcm_f32le,pcm_f64be,pcm_f64le,pcm_mulaw,pcm_s16be,pcm_s16be_planar,pcm_s16le,pcm_s16le_planar,pcm_s24be,pcm_s24le,pcm_s24le_planar,pcm_s32be,pcm_s32le,pcm_s32le_planar,pcm_s8,pcm_s8_planar,pcm_u16be,pcm_u16le,pcm_u24be,pcm_u24le,pcm_u32be,pcm_u32le,pcm_u8,pcx,pgm,pgmyuv,phm,png,ppm,prores,prores_aw,prores_ks,qoi,qtrle,r10k,r210,ra_144,rawvideo,roq,roq_dpcm,rpza,rv10,rv20,s302m,sbc,sgi,smc,snow,sonic,sonic_ls,speedhq,srt,ssa,subrip,sunrast,svq1,targa,text,tiff,truehd,tta,ttml,utvideo,v210,v308,v408,v410,vc1_qsv,vc1_v4l2m2m,vc2,vnull,vorbis,vp8_qsv,vp8_v4l2m2m,vp8_vaapi,vp9_qsv,vp9_vaapi,wavpack,wbmp,webvtt,wmav1,wmav2,wmv1,wmv2,wrapped_avframe,xbm,xface,xsub,xwd,y41p,yuv4,zlib,zmbv,' --enable-decoder=',aac,aasc,libfdk_aac,ac3,acelp_kelvin,adpcm_4xm,adpcm_adx,adpcm_afc,adpcm_agm,adpcm_aica,adpcm_argo,adpcm_ct,adpcm_dtk,adpcm_ea,adpcm_ea_maxis_xa,adpcm_ea_r1,adpcm_ea_r2,adpcm_ea_r3,adpcm_ea_xas,adpcm_g722,adpcm_g726,adpcm_g726le,adpcm_ima_acorn,adpcm_ima_alp,adpcm_ima_amv,adpcm_ima_apc,adpcm_ima_apm,adpcm_ima_cunning,adpcm_ima_dat4,adpcm_ima_dk3,adpcm_ima_dk4,adpcm_ima_ea_eacs,adpcm_ima_ea_sead,adpcm_ima_iss,adpcm_ima_moflex,adpcm_ima_mtf,adpcm_ima_oki,adpcm_ima_qt,adpcm_ima_qt_at,adpcm_ima_rad,adpcm_ima_smjpeg,adpcm_ima_ssi,adpcm_ima_wav,adpcm_ima_ws,adpcm_ms,adpcm_mtaf,adpcm_psx,adpcm_sbpro_2,adpcm_sbpro_3,adpcm_sbpro_4,adpcm_swf,adpcm_thp,adpcm_thp_le,adpcm_vima,adpcm_xa,adpcm_xmd,adpcm_yamaha,adpcm_zork,aic,alac,alias_pix,amrnb,amrwb,amv,anm,ansi,anull,apac,ape,apng,arbc,argo,ass,asv1,asv2,atrac1,atrac3,atrac3al,atrac3p,atrac3pal,aura,aura2,av1,av1_qsv,bethsoftvid,bfi,bink,binkaudio_dct,binkaudio_rdft,bintext,bitpacked,bmp,bmv_audio,bmv_video,bonk,brender_pix,c93,cbd2_dpcm,ccaption,cdgraphics,cdtoons,cdxl,cinepak,clearvideo,cljr,cook,cpia,cscd,cyuv,dca,dds,derf_dpcm,dfa,dfpwm,dirac,dnxhd,dnxhr,dolby_e,dpx,dsd_lsbf,dsd_msbf,dsicinaudio,dsicinvideo,dss_sp,dvaudio,dvbsub,dvdsub,dvvideo,dxa,dxtory,eacmv,eamad,eatgq,eatgv,eatqi,eightbps,eightsvx_exp,eightsvx_fib,escape124,escape130,evrc,exr,ffv1,ffvhuff,ffwavesynth,fits,flac,flashsv,flashsv2,flic,flv,fmvc,fourxm,ftr,g723_1,g729,gdv,gem,gif,gremlin_dpcm,gsm,gsm_ms,gsm_ms_at,h261,h263,h263_v4l2m2m,h263i,h263p,hap,hca,hcom,hdr,hnm4_video,hq_hqa,hqx,huffyuv,hymt,iac,idcin,idf,iff_ilbm,ilbc,imc,indeo2,indeo3,indeo4,indeo5,interplay_acm,interplay_dpcm,interplay_video,ipu,jacosub,jpeg2000,jpegls,jv,kgv1,kmvc,lagarith,libaribb24,libaribcaption,libaom,libaom_av1,libcodec2,libdav1d,libgsm,libgsm_ms,libilbc,libjxl,liblc3,libopencore_amrnb,libopencore_amrwb,libopenh264,libopenjpeg,libopus,librsvg,libschroedinger,libspeex,libvorbis,libvpx_vp8,libvpx_vp9,libzvbi_teletext,loco,lscr,m101,mace3,mace6,mdec,media100,metasound,microdvd,mimic,misc4,mjpeg,mjpeg_qsv,mjpegb,mlp,mmvideo,motionpixels,mp1,mp1float,mp2,mp2float,mp3,mp3adu,mp3adufloat,mp3float,mp3on4,mp3on4float,mpc7,mpc8,mpeg1_v4l2m2m,mpeg1video,mpeg2_qsv,mpeg2_v4l2m2m,mpeg2video,mpeg4,mpeg4_v4l2m2m,mpegvideo,mpl2,msa1,mscc,msmpeg4v1,msmpeg4v2,msmpeg4v3,msnsiren,msp2,msrle,mss1,mss2,msvideo1,mszh,mts2,mv30,mvc1,mvc2,mvdv,mvha,mwsc,mxpeg,nellymoser,nuv,on2avc,opus,paf_audio,paf_video,pam,pbm,pcm_alaw,pcm_bluray,pcm_dvd,pcm_f16le,pcm_f24le,pcm_f32be,pcm_f32le,pcm_f64be,pcm_f64le,pcm_lxf,pcm_mulaw,pcm_s16be,pcm_s16be_planar,pcm_s16le,pcm_s16le_planar,pcm_s24be,pcm_s24daud,pcm_s24le,pcm_s24le_planar,pcm_s32be,pcm_s32le,pcm_s32le_planar,pcm_s64be,pcm_s64le,pcm_s8,pcm_s8_planar,pcm_sga,pcm_u16be,pcm_u16le,pcm_u24be,pcm_u24le,pcm_u32be,pcm_u32le,pcm_u8,pcm_vidc,pcx,pfm,pgm,pgmyuv,pgssub,pgx,phm,photocd,pictor,pjs,png,ppm,prores,prosumer,psd,ptx,qcelp,qdm2,qdmc,qdraw,qoa,qoi,qpeg,qtrle,r10k,r210,ra_144,ra_288,rasc,rawvideo,realtext,rka,rl2,roq,roq_dpcm,rpza,rscc,rv10,rv20,s302m,sami,sanm,sbc,screenpresso,sdx2_dpcm,sgi,sgirle,shorten,simbiosis_imx,sipr,siren,smackaud,smacker,smc,smvjpeg,snow,sol_dpcm,sonic,sp5x,speedhq,speex,srgc,srt,ssa,stl,subrip,subviewer,subviewer1,sunrast,svq1,svq3,tak,targa,targa_y216,tdsc,text,theora,thp,tiertexseqvideo,tiff,tmv,truehd,truemotion1,truemotion2,truemotion2rt,truespeech,tscc,tscc2,tta,twinvq,txd,ulti,utvideo,v210,v210x,v308,v408,v410,vb,vble,vcr1,vmdaudio,vmdvideo,vmnc,vnull,vorbis,vp3,vp4,vp5,vp6,vp6a,vp6f,vp7,vp8,vp8_qsv,vp8_v4l2m2m,vp9,vp9_qsv,vp9_v4l2m2m,vplayer,vqa,vqc,wady_dpcm,wavarc,wavpack,wbmp,wcmv,webp,webvtt,wmav1,wmav2,wmavoice,wmv1,wmv2,wnv1,wrapped_avframe,ws_snd1,xan_dpcm,xan_wc3,xan_wc4,xbin,xbm,xface,xl,xpm,xsub,xwd,y41p,ylc,yop,yuv4,zero12v,zerocodec,zlib,zmbv,'\n",
      "  libavutil      59. 39.100 / 59. 39.100\n",
      "  libavcodec     61. 19.101 / 61. 19.101\n",
      "  libavformat    61.  7.100 / 61.  7.100\n",
      "  libavdevice    61.  3.100 / 61.  3.100\n",
      "  libavfilter    10.  4.100 / 10.  4.100\n",
      "  libswscale      8.  3.100 /  8.  3.100\n",
      "  libswresample   5.  3.100 /  5.  3.100\n",
      "  libpostproc    58.  3.100 / 58.  3.100\n",
      "Input #0, mov,mp4,m4a,3gp,3g2,mj2, from './video_data/Pep_Guardiola_explained_why_Chelsea_is_so_good.mp4':\n",
      "  Metadata:\n",
      "    major_brand     : mp42\n",
      "    minor_version   : 0\n",
      "    compatible_brands: isommp42\n",
      "    creation_time   : 2025-02-24T19:13:04.000000Z\n",
      "    encoder         : Google\n",
      "  Duration: 00:00:38.48, start: 0.000000, bitrate: 430 kb/s\n",
      "  Stream #0:0[0x1](und): Video: h264 (libopenh264) (Main) (avc1 / 0x31637661), yuv420p(progressive), 640x350, 299 kb/s, 25.94 fps, 25.94 tbr, 14970 tbn (default)\n",
      "      Metadata:\n",
      "        creation_time   : 2025-02-24T19:13:04.000000Z\n",
      "        handler_name    : ISO Media file produced by Google Inc. Created on: 02/24/2025.\n",
      "        vendor_id       : [0][0][0][0]\n",
      "  Stream #0:1[0x2](und): Audio: aac (LC) (mp4a / 0x6134706D), 44100 Hz, stereo, fltp, 128 kb/s (default)\n",
      "      Metadata:\n",
      "        creation_time   : 2025-02-24T19:13:04.000000Z\n",
      "        handler_name    : ISO Media file produced by Google Inc. Created on: 02/24/2025.\n",
      "        vendor_id       : [0][0][0][0]\n",
      "[aist#1:0/pcm_s16le @ 0x560c59ba73c0] Guessed Channel Layout: mono\n",
      "Input #1, wav, from './video_data/Pep_Guardiola_explained_why_Chelsea_is_so_good/tts_timeline.wav':\n",
      "  Duration: 00:00:38.98, bitrate: 705 kb/s\n",
      "  Stream #1:0: Audio: pcm_s16le ([1][0][0][0] / 0x0001), 44100 Hz, mono, s16, 705 kb/s\n",
      "Stream mapping:\n",
      "  Stream #0:0 -> #0:0 (copy)\n",
      "  Stream #1:0 -> #0:1 (pcm_s16le (native) -> aac (native))\n",
      "Press [q] to stop, [?] for help\n",
      "Output #0, mp4, to './video_data/Pep_Guardiola_explained_why_Chelsea_is_so_good/translated_Pep_Guardiola_explained_why_Chelsea_is_so_good.mp4':\n",
      "  Metadata:\n",
      "    major_brand     : mp42\n",
      "    minor_version   : 0\n",
      "    compatible_brands: isommp42\n",
      "    encoder         : Lavf61.7.100\n",
      "  Stream #0:0(und): Video: h264 (Main) (avc1 / 0x31637661), yuv420p(progressive), 640x350, q=2-31, 299 kb/s, 25.94 fps, 25.94 tbr, 14970 tbn (default)\n",
      "      Metadata:\n",
      "        creation_time   : 2025-02-24T19:13:04.000000Z\n",
      "        handler_name    : ISO Media file produced by Google Inc. Created on: 02/24/2025.\n",
      "        vendor_id       : [0][0][0][0]\n",
      "  Stream #0:1: Audio: aac (LC) (mp4a / 0x6134706D), 44100 Hz, mono, fltp, 69 kb/s\n",
      "      Metadata:\n",
      "        encoder         : Lavc61.19.101 aac\n",
      "[out#0/mp4 @ 0x560c59ba7640] video:1406KiB audio:326KiB subtitle:0KiB other streams:0KiB global headers:0KiB muxing overhead: 1.805667%\n",
      "frame=  998 fps=0.0 q=-1.0 Lsize=    1763KiB time=00:00:38.42 bitrate= 375.9kbits/s speed= 131x    \n",
      "[aac @ 0x560c59b5f080] Qavg: 5222.530\n"
     ]
    }
   ],
   "source": [
    "video_name = \"Pep_Guardiola_explained_why_Chelsea_is_so_good\"\n",
    "video_path = f\"./video_data/{video_name}.mp4\"\n",
    "audio_path = f\"./video_data/origin_audio_{video_name}.wav\"\n",
    "output_video_path = f\"./video_data/{video_name}/translated_{video_name}.mp4\"\n",
    "base_path = f'./video_data/{video_name}/'\n",
    "#final_wav\n",
    "\n",
    "# Save the video\n",
    "mux_with_video(\n",
    "    temp_path=base_path,    \n",
    "    video_path=video_path,\n",
    "    new_audio_path=final_wav,\n",
    "    out_video_path=output_video_path,\n",
    "    mode=\"dub\" #\"voiceover\",\n",
    "    )\n"
   ]
  },
  {
   "cell_type": "code",
   "execution_count": 15,
   "id": "d429618c",
   "metadata": {},
   "outputs": [],
   "source": [
    "from tool_language_video_translate.utils import run_ffmpeg"
   ]
  },
  {
   "cell_type": "code",
   "execution_count": 18,
   "id": "e2fcc94f",
   "metadata": {},
   "outputs": [
    {
     "data": {
      "text/plain": [
       "'./video_data/Pep_Guardiola_explained_why_Chelsea_is_so_good/orig.wav'"
      ]
     },
     "execution_count": 18,
     "metadata": {},
     "output_type": "execute_result"
    }
   ],
   "source": [
    "orig_wav"
   ]
  },
  {
   "cell_type": "code",
   "execution_count": 21,
   "id": "eddfdaaf",
   "metadata": {},
   "outputs": [
    {
     "data": {
      "text/plain": [
       "'./video_data/Pep_Guardiola_explained_why_Chelsea_is_so_good.mp4'"
      ]
     },
     "execution_count": 21,
     "metadata": {},
     "output_type": "execute_result"
    }
   ],
   "source": [
    "video_path"
   ]
  },
  {
   "cell_type": "code",
   "execution_count": 22,
   "id": "cfa35e64",
   "metadata": {},
   "outputs": [
    {
     "ename": "TypeError",
     "evalue": "sequence item 2: expected str instance, list found",
     "output_type": "error",
     "traceback": [
      "\u001b[31m---------------------------------------------------------------------------\u001b[39m",
      "\u001b[31mTypeError\u001b[39m                                 Traceback (most recent call last)",
      "\u001b[36mCell\u001b[39m\u001b[36m \u001b[39m\u001b[32mIn[22]\u001b[39m\u001b[32m, line 3\u001b[39m\n\u001b[32m      1\u001b[39m td = base_path\n\u001b[32m      2\u001b[39m orig_wav = os.path.join(td, \u001b[33m\"\u001b[39m\u001b[33morig.wav\u001b[39m\u001b[33m\"\u001b[39m)\n\u001b[32m----> \u001b[39m\u001b[32m3\u001b[39m \u001b[43mrun_ffmpeg\u001b[49m\u001b[43m(\u001b[49m\u001b[43m[\u001b[49m\u001b[33;43m\"\u001b[39;49m\u001b[33;43m-i\u001b[39;49m\u001b[33;43m\"\u001b[39;49m\u001b[43m,\u001b[49m\u001b[43m \u001b[49m\u001b[43mvideo_path\u001b[49m\u001b[43m,\u001b[49m\u001b[43m \u001b[49m\n\u001b[32m      4\u001b[39m \u001b[43m            \u001b[49m\u001b[33;43m\"\u001b[39;49m\u001b[33;43m-vn\u001b[39;49m\u001b[33;43m\"\u001b[39;49m\u001b[43m,\u001b[49m\u001b[43m \u001b[49m\n\u001b[32m      5\u001b[39m \u001b[43m            \u001b[49m\u001b[33;43m\"\u001b[39;49m\u001b[33;43m-acodec\u001b[39;49m\u001b[33;43m\"\u001b[39;49m\u001b[43m,\u001b[49m\u001b[43m \u001b[49m\u001b[33;43m\"\u001b[39;49m\u001b[33;43mpcm_s16le\u001b[39;49m\u001b[33;43m\"\u001b[39;49m\u001b[43m,\u001b[49m\u001b[43m \u001b[49m\n\u001b[32m      6\u001b[39m \u001b[43m            \u001b[49m\u001b[33;43m\"\u001b[39;49m\u001b[33;43m-ar\u001b[39;49m\u001b[33;43m\"\u001b[39;49m\u001b[43m,\u001b[49m\u001b[43m \u001b[49m\u001b[33;43m\"\u001b[39;49m\u001b[33;43m16000\u001b[39;49m\u001b[33;43m\"\u001b[39;49m\u001b[43m,\u001b[49m\u001b[43m \u001b[49m\n\u001b[32m      7\u001b[39m \u001b[43m            \u001b[49m\u001b[33;43m\"\u001b[39;49m\u001b[33;43m-ac\u001b[39;49m\u001b[33;43m\"\u001b[39;49m\u001b[43m,\u001b[49m\u001b[43m \u001b[49m\u001b[33;43m\"\u001b[39;49m\u001b[33;43m1\u001b[39;49m\u001b[33;43m\"\u001b[39;49m\u001b[43m,\u001b[49m\u001b[43m \u001b[49m\u001b[43morig_wav\u001b[49m\u001b[43m]\u001b[49m\u001b[43m)\u001b[49m\n",
      "\u001b[36mFile \u001b[39m\u001b[32m~/Documents/Projects/Tool_Translate_Language_Video/tool_language_video_translate/utils.py:41\u001b[39m, in \u001b[36mrun_ffmpeg\u001b[39m\u001b[34m(cmd_arg)\u001b[39m\n\u001b[32m     36\u001b[39m \u001b[38;5;250m\u001b[39m\u001b[33;03m\"\"\"\u001b[39;00m\n\u001b[32m     37\u001b[39m \u001b[33;03mRun a ffmpeg command with specific arguments.\u001b[39;00m\n\u001b[32m     38\u001b[39m \u001b[33;03m\"\"\"\u001b[39;00m\n\u001b[32m     39\u001b[39m cmd = [\u001b[33m\"\u001b[39m\u001b[33mffmpeg\u001b[39m\u001b[33m\"\u001b[39m, \u001b[33m\"\u001b[39m\u001b[33m-y\u001b[39m\u001b[33m\"\u001b[39m, *[cmd_arg]]\n\u001b[32m     40\u001b[39m \u001b[38;5;28mprint\u001b[39m(\u001b[33m\"\u001b[39m\u001b[33m[ffmpeg]\u001b[39m\u001b[33m\"\u001b[39m, \n\u001b[32m---> \u001b[39m\u001b[32m41\u001b[39m     \u001b[33;43m\"\u001b[39;49m\u001b[33;43m \u001b[39;49m\u001b[33;43m\"\u001b[39;49m\u001b[43m.\u001b[49m\u001b[43mjoin\u001b[49m\u001b[43m(\u001b[49m\u001b[43mcmd\u001b[49m\u001b[43m)\u001b[49m)\n\u001b[32m     42\u001b[39m subprocess.run(cmd, check=\u001b[38;5;28;01mTrue\u001b[39;00m)\n",
      "\u001b[31mTypeError\u001b[39m: sequence item 2: expected str instance, list found"
     ]
    }
   ],
   "source": [
    "td = base_path\n",
    "orig_wav = os.path.join(td, \"orig.wav\")\n",
    "run_ffmpeg([\"-i\", video_path, \n",
    "            \"-vn\", \n",
    "            \"-acodec\", \"pcm_s16le\", \n",
    "            \"-ar\", \"16000\", \n",
    "            \"-ac\", \"1\", orig_wav])"
   ]
  },
  {
   "cell_type": "code",
   "execution_count": null,
   "id": "728ea1df",
   "metadata": {},
   "outputs": [],
   "source": []
  }
 ],
 "metadata": {
  "kernelspec": {
   "display_name": "tool-language-video-translate-py3.11",
   "language": "python",
   "name": "python3"
  },
  "language_info": {
   "codemirror_mode": {
    "name": "ipython",
    "version": 3
   },
   "file_extension": ".py",
   "mimetype": "text/x-python",
   "name": "python",
   "nbconvert_exporter": "python",
   "pygments_lexer": "ipython3",
   "version": "3.11.8"
  }
 },
 "nbformat": 4,
 "nbformat_minor": 5
}
